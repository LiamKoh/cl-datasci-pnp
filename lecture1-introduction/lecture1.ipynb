{
  "cells": [
    {
      "metadata": {
        "slideshow": {
          "slide_type": "slide"
        }
      },
      "cell_type": "markdown",
      "source": "# Lecture 1: Introduction and Data Science Basics\n"
    },
    {
      "metadata": {},
      "cell_type": "markdown",
      "source": "This session will cover how to load data in common formats into python, plot it and calculate basic statistics over it. "
    },
    {
      "metadata": {},
      "cell_type": "markdown",
      "source": "## Python Syntax Refresher"
    },
    {
      "metadata": {},
      "cell_type": "markdown",
      "source": "Here is a short python program just to remind you the syntax.  \nIt imports a library called *random*, creates a list with three elements, then goes through the list and prints each element along with a random number."
    },
    {
      "metadata": {
        "trusted": true
      },
      "cell_type": "code",
      "source": "import random\n\nmy_list = [\"camel\", \"elephant\", \"crocodile\"]\nfor word in my_list:\n    print(word + \" \" +str(random.random()))",
      "execution_count": 1,
      "outputs": [
        {
          "output_type": "stream",
          "text": "camel 0.49797874792387165\nelephant 0.1314139861631184\ncrocodile 0.42154117768546695\n",
          "name": "stdout"
        }
      ]
    },
    {
      "metadata": {},
      "cell_type": "markdown",
      "source": "If you need help with getting started with Python, I would recommend going through a tutorial: https://www.tutorialspoint.com/python/index.htm"
    },
    {
      "metadata": {},
      "cell_type": "markdown",
      "source": "## Dataset\n\nWe will use the data/country-stats.tsv file which contains demographic information for 161 countries, collected by The World Bank. Each line contains the following values:\n\n* Country\tName\n* GDP per Capita (PPP USD)\n* Population Density (persons per sq km)\n* Population Growth Rate (%)\n* Urban Population (%)\n* Life Expectancy at Birth (avg years)\n* Fertility Rate (births per woman)\n* Infant Mortality (deaths per 1000 births)\n* Enrolment Rate, Tertiary (%)\n* Unemployment, Total (%)\n* Estimated Control of Corruption (scale -2.5 to 2.5)\n* Estimated Government Effectiveness (scale -2.5 to 2.5)\n* Internet Users (%)"
    },
    {
      "metadata": {},
      "cell_type": "markdown",
      "source": "A sample of the CSV (comma-separated values) format can be seen below. Values are separated by commas; the first row contains column headers.\n\n~~~~\nCountry Name,GDP per Capita (PPP USD),Population Density (persons per sq km),Population Growth Rate (%),Urban Population (%),Life Expectancy at Birth (avg years),Fertility Rate (births per woman),Infant Mortality (deaths per 1000 births),\"Enrolment Rate, Tertiary (%)\",\"Unemployment, Total (%)\",Estimated Control of Corruption (scale -2.5 to 2.5),Estimated Government Effectiveness (scale -2.5 to 2.5),Internet Users (%)\nAfghanistan,1560.67,44.62,2.44,23.86,60.07,5.39,71,3.33,8.5,-1.41,-1.4,5.45\nAlbania,9403.43,115.11,0.26,54.45,77.16,1.75,15,54.85,14.2,-0.72,-0.28,54.66\nAlgeria,8515.35,15.86,1.89,73.71,70.75,2.83,25.6,31.46,10,-0.54,-0.55,15.23\nAntigua and Barbuda,19640.35,200.35,1.03,29.87,75.5,2.12,9.2,14.37,8.4,1.29,0.48,83.79\nArgentina,12016.2,14.88,0.88,92.64,75.84,2.2,12.7,74.83,7.2,-0.49,-0.25,55.8\n~~~~"
    },
    {
      "metadata": {},
      "cell_type": "markdown",
      "source": "## Reading Data into Python"
    },
    {
      "metadata": {},
      "cell_type": "markdown",
      "source": "We can use the python library called *pandas* in order to easily load CSV files into out code. The *data* variable will be a pandas-specific object containing the whole dataset. *data.head()* shows the first few lines."
    },
    {
      "metadata": {
        "trusted": true,
        "scrolled": true
      },
      "cell_type": "code",
      "source": "import pandas as pd\n\ndata = pd.read_csv('data/country-stats.csv')\ndata.head()",
      "execution_count": 2,
      "outputs": [
        {
          "output_type": "execute_result",
          "execution_count": 2,
          "data": {
            "text/html": "<div>\n<table border=\"1\" class=\"dataframe\">\n  <thead>\n    <tr style=\"text-align: right;\">\n      <th></th>\n      <th>Country Name</th>\n      <th>GDP per Capita (PPP USD)</th>\n      <th>Population Density (persons per sq km)</th>\n      <th>Population Growth Rate (%)</th>\n      <th>Urban Population (%)</th>\n      <th>Life Expectancy at Birth (avg years)</th>\n      <th>Fertility Rate (births per woman)</th>\n      <th>Infant Mortality (deaths per 1000 births)</th>\n      <th>Enrolment Rate, Tertiary (%)</th>\n      <th>Unemployment, Total (%)</th>\n      <th>Estimated Control of Corruption (scale -2.5 to 2.5)</th>\n      <th>Estimated Government Effectiveness (scale -2.5 to 2.5)</th>\n      <th>Internet Users (%)</th>\n    </tr>\n  </thead>\n  <tbody>\n    <tr>\n      <th>0</th>\n      <td>Afghanistan</td>\n      <td>1560.67</td>\n      <td>44.62</td>\n      <td>2.44</td>\n      <td>23.86</td>\n      <td>60.07</td>\n      <td>5.39</td>\n      <td>71.0</td>\n      <td>3.33</td>\n      <td>8.5</td>\n      <td>-1.41</td>\n      <td>-1.40</td>\n      <td>5.45</td>\n    </tr>\n    <tr>\n      <th>1</th>\n      <td>Albania</td>\n      <td>9403.43</td>\n      <td>115.11</td>\n      <td>0.26</td>\n      <td>54.45</td>\n      <td>77.16</td>\n      <td>1.75</td>\n      <td>15.0</td>\n      <td>54.85</td>\n      <td>14.2</td>\n      <td>-0.72</td>\n      <td>-0.28</td>\n      <td>54.66</td>\n    </tr>\n    <tr>\n      <th>2</th>\n      <td>Algeria</td>\n      <td>8515.35</td>\n      <td>15.86</td>\n      <td>1.89</td>\n      <td>73.71</td>\n      <td>70.75</td>\n      <td>2.83</td>\n      <td>25.6</td>\n      <td>31.46</td>\n      <td>10.0</td>\n      <td>-0.54</td>\n      <td>-0.55</td>\n      <td>15.23</td>\n    </tr>\n    <tr>\n      <th>3</th>\n      <td>Antigua and Barbuda</td>\n      <td>19640.35</td>\n      <td>200.35</td>\n      <td>1.03</td>\n      <td>29.87</td>\n      <td>75.50</td>\n      <td>2.12</td>\n      <td>9.2</td>\n      <td>14.37</td>\n      <td>8.4</td>\n      <td>1.29</td>\n      <td>0.48</td>\n      <td>83.79</td>\n    </tr>\n    <tr>\n      <th>4</th>\n      <td>Argentina</td>\n      <td>12016.20</td>\n      <td>14.88</td>\n      <td>0.88</td>\n      <td>92.64</td>\n      <td>75.84</td>\n      <td>2.20</td>\n      <td>12.7</td>\n      <td>74.83</td>\n      <td>7.2</td>\n      <td>-0.49</td>\n      <td>-0.25</td>\n      <td>55.80</td>\n    </tr>\n  </tbody>\n</table>\n</div>",
            "text/plain": "          Country Name  GDP per Capita (PPP USD)  \\\n0          Afghanistan                   1560.67   \n1              Albania                   9403.43   \n2              Algeria                   8515.35   \n3  Antigua and Barbuda                  19640.35   \n4            Argentina                  12016.20   \n\n   Population Density (persons per sq km)  Population Growth Rate (%)  \\\n0                                   44.62                        2.44   \n1                                  115.11                        0.26   \n2                                   15.86                        1.89   \n3                                  200.35                        1.03   \n4                                   14.88                        0.88   \n\n   Urban Population (%)  Life Expectancy at Birth (avg years)  \\\n0                 23.86                                 60.07   \n1                 54.45                                 77.16   \n2                 73.71                                 70.75   \n3                 29.87                                 75.50   \n4                 92.64                                 75.84   \n\n   Fertility Rate (births per woman)  \\\n0                               5.39   \n1                               1.75   \n2                               2.83   \n3                               2.12   \n4                               2.20   \n\n   Infant Mortality (deaths per 1000 births)  Enrolment Rate, Tertiary (%)  \\\n0                                       71.0                          3.33   \n1                                       15.0                         54.85   \n2                                       25.6                         31.46   \n3                                        9.2                         14.37   \n4                                       12.7                         74.83   \n\n   Unemployment, Total (%)  \\\n0                      8.5   \n1                     14.2   \n2                     10.0   \n3                      8.4   \n4                      7.2   \n\n   Estimated Control of Corruption (scale -2.5 to 2.5)  \\\n0                                              -1.41     \n1                                              -0.72     \n2                                              -0.54     \n3                                               1.29     \n4                                              -0.49     \n\n   Estimated Government Effectiveness (scale -2.5 to 2.5)  Internet Users (%)  \n0                                              -1.40                     5.45  \n1                                              -0.28                    54.66  \n2                                              -0.55                    15.23  \n3                                               0.48                    83.79  \n4                                              -0.25                    55.80  "
          },
          "metadata": {}
        }
      ]
    },
    {
      "metadata": {},
      "cell_type": "markdown",
      "source": "## Using *Pandas* to Analyze Data"
    },
    {
      "metadata": {},
      "cell_type": "markdown",
      "source": "Now that we have loaded the data, we can analyze it.  \n\nTo start, we'll focus on one variable in this dataset: GDP per Capita (PPP USD).  \nIt is common to describe a variable by finding its average value (the mean), so let's do that."
    },
    {
      "metadata": {
        "trusted": true
      },
      "cell_type": "code",
      "source": "data[\"GDP per Capita (PPP USD)\"].mean()",
      "execution_count": 3,
      "outputs": [
        {
          "output_type": "execute_result",
          "execution_count": 3,
          "data": {
            "text/plain": "15616.289378881998"
          },
          "metadata": {}
        }
      ]
    },
    {
      "metadata": {},
      "cell_type": "markdown",
      "source": "Now we know that the average GDP in those countries is $15616. But on its own that doesn't really tell us much. We want to find interesting connections and patterns. \n\nWhat if we look at how the average GDP differs between countries with low or high unemployment.  \nWe can use pandas to first select countries that have a specific unemployment percentage and then calculate the mean over that group."
    },
    {
      "metadata": {
        "trusted": true,
        "scrolled": true
      },
      "cell_type": "code",
      "source": "low_unemployment_countries = data[data[\"Unemployment, Total (%)\"] < 7]\nlow_unemployment_countries[\"GDP per Capita (PPP USD)\"].mean()",
      "execution_count": 4,
      "outputs": [
        {
          "output_type": "execute_result",
          "execution_count": 4,
          "data": {
            "text/plain": "16383.713421052627"
          },
          "metadata": {}
        }
      ]
    },
    {
      "metadata": {
        "trusted": true
      },
      "cell_type": "code",
      "source": "high_unemployment_countries = data[data[\"Unemployment, Total (%)\"] >= 7]\nhigh_unemployment_countries[\"GDP per Capita (PPP USD)\"].mean()",
      "execution_count": 5,
      "outputs": [
        {
          "output_type": "execute_result",
          "execution_count": 5,
          "data": {
            "text/plain": "14930.121999999996"
          },
          "metadata": {}
        }
      ]
    },
    {
      "metadata": {},
      "cell_type": "markdown",
      "source": "Now we're getting somewhere! There's a difference in average GDP between these two groups.  \nCountries with lower higher unemployment have lower GDP.  \n\nLet's graph this finding."
    },
    {
      "metadata": {
        "trusted": true
      },
      "cell_type": "code",
      "source": "import matplotlib.pyplot as plt",
      "execution_count": 6,
      "outputs": []
    },
    {
      "metadata": {
        "trusted": true
      },
      "cell_type": "code",
      "source": "bar_width = 0.6\n\nx1 = [0.0]\nx2 = [bar_width]\n\ny1 = [data[data[\"Unemployment, Total (%)\"] < 7][\"GDP per Capita (PPP USD)\"].mean()]\ny2 = [data[data[\"Unemployment, Total (%)\"] >= 7][\"GDP per Capita (PPP USD)\"].mean()]\n\nfig, ax = plt.subplots()\nbars1 = ax.bar(x1, y1, bar_width, alpha=0.4, color='b', label='Low unemployment')\nbars2 = ax.bar(x2, y2, bar_width, alpha=0.4, color='r', label='High unemployment')\n\nax.set_ylabel('GDP')\nax.set_title('Average GDP by unemployment')\nax.set_xticks([])\nax.set_xlim([-2,2.5])\nax.set_ylim([14000,17000])\nax.legend()\n\nplt.show()",
      "execution_count": 7,
      "outputs": [
        {
          "output_type": "display_data",
          "data": {
            "image/png": "[encoded data removed]",
            "text/plain": "<matplotlib.figure.Figure at 0x7f06da3a1ba8>"
          },
          "metadata": {}
        }
      ]
    },
    {
      "metadata": {},
      "cell_type": "markdown",
      "source": "This clearly looks like a big difference in GDP between the two countries, right?  \nWell, it has a couple of problems. For one, a lot depends on how the information is presented. If we adjust the X axis, the same difference does not as substantial any more."
    },
    {
      "metadata": {
        "trusted": true
      },
      "cell_type": "code",
      "source": "bar_width = 0.6\n\nx1 = [0.0]\nx2 = [bar_width]\n\ny1 = [data[data[\"Unemployment, Total (%)\"] < 7][\"GDP per Capita (PPP USD)\"].mean()]\ny2 = [data[data[\"Unemployment, Total (%)\"] >= 7][\"GDP per Capita (PPP USD)\"].mean()]\n\nfig, ax = plt.subplots()\nbars1 = ax.bar(x1, y1, bar_width, alpha=0.4, color='b', label='Low unempl.')\nbars2 = ax.bar(x2, y2, bar_width, alpha=0.4, color='r', label='High unempl.')\n\nax.set_ylabel('GDP')\nax.set_title('Average GDP by unemployment')\nax.set_xticks([])\nax.set_xlim([-2,2.5])\nax.set_ylim([0, 17000])\nax.legend()\n\nplt.show()",
      "execution_count": 8,
      "outputs": [
        {
          "output_type": "display_data",
          "data": {
            "image/png": "[encoded data removed]",
            "text/plain": "<matplotlib.figure.Figure at 0x7f06da3bf5c0>"
          },
          "metadata": {}
        }
      ]
    },
    {
      "metadata": {},
      "cell_type": "markdown",
      "source": "That doesn't look like a very big difference any more. The way we present data is a powerful tool and we have to be careful not to let it fool ourselves or others."
    },
    {
      "metadata": {},
      "cell_type": "markdown",
      "source": "Another problem is that taking the average of some data throws away a lot of important information.  \nLet's calculate the standard deviation of these groups as well."
    },
    {
      "metadata": {
        "trusted": true
      },
      "cell_type": "code",
      "source": "low_unemployment_countries = data[data[\"Unemployment, Total (%)\"] < 7]\nlow_unemployment_countries[\"GDP per Capita (PPP USD)\"].std()",
      "execution_count": 9,
      "outputs": [
        {
          "output_type": "execute_result",
          "execution_count": 9,
          "data": {
            "text/plain": "19752.912647780504"
          },
          "metadata": {}
        }
      ]
    },
    {
      "metadata": {
        "trusted": true
      },
      "cell_type": "code",
      "source": "high_unemployment_countries = data[data[\"Unemployment, Total (%)\"] >= 7]\nhigh_unemployment_countries[\"GDP per Capita (PPP USD)\"].std()",
      "execution_count": 10,
      "outputs": [
        {
          "output_type": "execute_result",
          "execution_count": 10,
          "data": {
            "text/plain": "12781.059320722152"
          },
          "metadata": {}
        }
      ]
    },
    {
      "metadata": {},
      "cell_type": "markdown",
      "source": "For both subgroups, the standard deviation is almost just as high as the average GDP. This means there is so much variance in the data that the difference in averages hardly matters."
    },
    {
      "metadata": {},
      "cell_type": "markdown",
      "source": "We can graph the data to take a better look at the relationships between these variables."
    },
    {
      "metadata": {
        "trusted": true
      },
      "cell_type": "code",
      "source": "plt.scatter(data[\"Unemployment, Total (%)\"], data[\"GDP per Capita (PPP USD)\"])\nplt.xlabel(\"Unemployment, Total (%)\")\nplt.ylabel(\"GDP per Capita (PPP USD)\")\nfor i in [37,84]:\n    plt.annotate(data[\"Country Name\"][i], (data[\"Unemployment, Total (%)\"][i], data[\"GDP per Capita (PPP USD)\"][i]))\n\n#fig.set_size_inches(5,5)\nplt.savefig('graph3.png', dpi=400)\n    \nplt.show()",
      "execution_count": 11,
      "outputs": [
        {
          "output_type": "display_data",
          "data": {
            "image/png": "[encoded data removed]",
            "text/plain": "<matplotlib.figure.Figure at 0x7f06da3a1208>"
          },
          "metadata": {}
        }
      ]
    },
    {
      "metadata": {},
      "cell_type": "markdown",
      "source": "We can see that there are some countries with very low unemployment and very high GDP, and some countries with very high unemployment and very low GDP. But there are also many countries low unemloyment and low GDP, so our original assumtion doesn't really hold."
    },
    {
      "metadata": {},
      "cell_type": "markdown",
      "source": "## Doing More with Pandas"
    },
    {
      "metadata": {},
      "cell_type": "markdown",
      "source": "Some other useful things we can do with the pandas DataFrame object.  \nIf we call it on a dataset without any filters, it will calculate the measure for all the columns."
    },
    {
      "metadata": {
        "trusted": true
      },
      "cell_type": "code",
      "source": "data.mean()",
      "execution_count": 12,
      "outputs": [
        {
          "output_type": "execute_result",
          "execution_count": 12,
          "data": {
            "text/plain": "GDP per Capita (PPP USD)                                  15616.289379\nPopulation Density (persons per sq km)                      150.002360\nPopulation Growth Rate (%)                                    1.339441\nUrban Population (%)                                         56.351429\nLife Expectancy at Birth (avg years)                         70.730683\nFertility Rate (births per woman)                             2.786398\nInfant Mortality (deaths per 1000 births)                    24.203727\nEnrolment Rate, Tertiary (%)                                 34.376149\nUnemployment, Total (%)                                       9.334161\nEstimated Control of Corruption (scale -2.5 to 2.5)           0.007143\nEstimated Government Effectiveness (scale -2.5 to 2.5)        0.047826\nInternet Users (%)                                           41.998137\ndtype: float64"
          },
          "metadata": {}
        }
      ]
    },
    {
      "metadata": {},
      "cell_type": "markdown",
      "source": "We can also use it to calculate statistics such as the median, minimum and maximum:"
    },
    {
      "metadata": {
        "trusted": true
      },
      "cell_type": "code",
      "source": "data.median()\ndata.min()\ndata.max()",
      "execution_count": 13,
      "outputs": [
        {
          "output_type": "execute_result",
          "execution_count": 13,
          "data": {
            "text/plain": "Country Name                                               Zambia\nGDP per Capita (PPP USD)                                    88286\nPopulation Density (persons per sq km)                    1701.01\nPopulation Growth Rate (%)                                   7.05\nUrban Population (%)                                        98.89\nLife Expectancy at Birth (avg years)                         82.7\nFertility Rate (births per woman)                            7.01\nInfant Mortality (deaths per 1000 births)                   117.4\nEnrolment Rate, Tertiary (%)                                100.8\nUnemployment, Total (%)                                      59.5\nEstimated Control of Corruption (scale -2.5 to 2.5)          2.42\nEstimated Government Effectiveness (scale -2.5 to 2.5)       2.21\nInternet Users (%)                                             96\ndtype: object"
          },
          "metadata": {}
        }
      ]
    },
    {
      "metadata": {},
      "cell_type": "markdown",
      "source": "We can get index using row/column numbers as well.  \nRow number 2:"
    },
    {
      "metadata": {
        "trusted": true
      },
      "cell_type": "code",
      "source": "data.iloc[2,:]",
      "execution_count": 14,
      "outputs": [
        {
          "output_type": "execute_result",
          "execution_count": 14,
          "data": {
            "text/plain": "Country Name                                              Algeria\nGDP per Capita (PPP USD)                                  8515.35\nPopulation Density (persons per sq km)                      15.86\nPopulation Growth Rate (%)                                   1.89\nUrban Population (%)                                        73.71\nLife Expectancy at Birth (avg years)                        70.75\nFertility Rate (births per woman)                            2.83\nInfant Mortality (deaths per 1000 births)                    25.6\nEnrolment Rate, Tertiary (%)                                31.46\nUnemployment, Total (%)                                        10\nEstimated Control of Corruption (scale -2.5 to 2.5)         -0.54\nEstimated Government Effectiveness (scale -2.5 to 2.5)      -0.55\nInternet Users (%)                                          15.23\nName: 2, dtype: object"
          },
          "metadata": {}
        }
      ]
    },
    {
      "metadata": {},
      "cell_type": "markdown",
      "source": "Column number 4:"
    },
    {
      "metadata": {
        "trusted": true,
        "scrolled": true
      },
      "cell_type": "code",
      "source": "data.iloc[:,4].head()",
      "execution_count": 15,
      "outputs": [
        {
          "output_type": "execute_result",
          "execution_count": 15,
          "data": {
            "text/plain": "0    23.86\n1    54.45\n2    73.71\n3    29.87\n4    92.64\nName: Urban Population (%), dtype: float64"
          },
          "metadata": {}
        }
      ]
    },
    {
      "metadata": {},
      "cell_type": "markdown",
      "source": "Element in row 2 column 4:"
    },
    {
      "metadata": {
        "trusted": true
      },
      "cell_type": "code",
      "source": "data.iloc[2,4]",
      "execution_count": 16,
      "outputs": [
        {
          "output_type": "execute_result",
          "execution_count": 16,
          "data": {
            "text/plain": "73.71"
          },
          "metadata": {}
        }
      ]
    },
    {
      "metadata": {},
      "cell_type": "markdown",
      "source": "The *.describe()* function prints many statistics at once for all the fields:"
    },
    {
      "metadata": {
        "trusted": true
      },
      "cell_type": "code",
      "source": "data.describe()",
      "execution_count": 17,
      "outputs": [
        {
          "output_type": "execute_result",
          "execution_count": 17,
          "data": {
            "text/html": "<div>\n<table border=\"1\" class=\"dataframe\">\n  <thead>\n    <tr style=\"text-align: right;\">\n      <th></th>\n      <th>GDP per Capita (PPP USD)</th>\n      <th>Population Density (persons per sq km)</th>\n      <th>Population Growth Rate (%)</th>\n      <th>Urban Population (%)</th>\n      <th>Life Expectancy at Birth (avg years)</th>\n      <th>Fertility Rate (births per woman)</th>\n      <th>Infant Mortality (deaths per 1000 births)</th>\n      <th>Enrolment Rate, Tertiary (%)</th>\n      <th>Unemployment, Total (%)</th>\n      <th>Estimated Control of Corruption (scale -2.5 to 2.5)</th>\n      <th>Estimated Government Effectiveness (scale -2.5 to 2.5)</th>\n      <th>Internet Users (%)</th>\n    </tr>\n  </thead>\n  <tbody>\n    <tr>\n      <th>count</th>\n      <td>161.000000</td>\n      <td>161.000000</td>\n      <td>161.000000</td>\n      <td>161.000000</td>\n      <td>161.000000</td>\n      <td>161.000000</td>\n      <td>161.000000</td>\n      <td>161.000000</td>\n      <td>161.000000</td>\n      <td>161.000000</td>\n      <td>161.000000</td>\n      <td>161.000000</td>\n    </tr>\n    <tr>\n      <th>mean</th>\n      <td>15616.289379</td>\n      <td>150.002360</td>\n      <td>1.339441</td>\n      <td>56.351429</td>\n      <td>70.730683</td>\n      <td>2.786398</td>\n      <td>24.203727</td>\n      <td>34.376149</td>\n      <td>9.334161</td>\n      <td>0.007143</td>\n      <td>0.047826</td>\n      <td>41.998137</td>\n    </tr>\n    <tr>\n      <th>std</th>\n      <td>16406.926234</td>\n      <td>228.164746</td>\n      <td>1.152827</td>\n      <td>23.219885</td>\n      <td>8.800197</td>\n      <td>1.405951</td>\n      <td>23.111558</td>\n      <td>26.913834</td>\n      <td>7.650916</td>\n      <td>0.977855</td>\n      <td>0.923518</td>\n      <td>28.954284</td>\n    </tr>\n    <tr>\n      <th>min</th>\n      <td>551.270000</td>\n      <td>1.770000</td>\n      <td>-1.600000</td>\n      <td>11.210000</td>\n      <td>47.780000</td>\n      <td>1.230000</td>\n      <td>1.700000</td>\n      <td>0.810000</td>\n      <td>0.200000</td>\n      <td>-1.560000</td>\n      <td>-1.650000</td>\n      <td>0.800000</td>\n    </tr>\n    <tr>\n      <th>25%</th>\n      <td>2925.650000</td>\n      <td>36.520000</td>\n      <td>0.450000</td>\n      <td>36.340000</td>\n      <td>65.960000</td>\n      <td>1.790000</td>\n      <td>6.700000</td>\n      <td>10.410000</td>\n      <td>4.200000</td>\n      <td>-0.690000</td>\n      <td>-0.640000</td>\n      <td>13.940000</td>\n    </tr>\n    <tr>\n      <th>50%</th>\n      <td>9637.080000</td>\n      <td>79.760000</td>\n      <td>1.250000</td>\n      <td>56.730000</td>\n      <td>73.450000</td>\n      <td>2.250000</td>\n      <td>14.900000</td>\n      <td>26.790000</td>\n      <td>7.200000</td>\n      <td>-0.300000</td>\n      <td>-0.070000</td>\n      <td>41.440000</td>\n    </tr>\n    <tr>\n      <th>75%</th>\n      <td>24590.490000</td>\n      <td>175.350000</td>\n      <td>2.170000</td>\n      <td>74.000000</td>\n      <td>76.760000</td>\n      <td>3.460000</td>\n      <td>38.500000</td>\n      <td>58.810000</td>\n      <td>12.700000</td>\n      <td>0.640000</td>\n      <td>0.760000</td>\n      <td>65.000000</td>\n    </tr>\n    <tr>\n      <th>max</th>\n      <td>88286.000000</td>\n      <td>1701.010000</td>\n      <td>7.050000</td>\n      <td>98.890000</td>\n      <td>82.700000</td>\n      <td>7.010000</td>\n      <td>117.400000</td>\n      <td>100.800000</td>\n      <td>59.500000</td>\n      <td>2.420000</td>\n      <td>2.210000</td>\n      <td>96.000000</td>\n    </tr>\n  </tbody>\n</table>\n</div>",
            "text/plain": "       GDP per Capita (PPP USD)  Population Density (persons per sq km)  \\\ncount                161.000000                              161.000000   \nmean               15616.289379                              150.002360   \nstd                16406.926234                              228.164746   \nmin                  551.270000                                1.770000   \n25%                 2925.650000                               36.520000   \n50%                 9637.080000                               79.760000   \n75%                24590.490000                              175.350000   \nmax                88286.000000                             1701.010000   \n\n       Population Growth Rate (%)  Urban Population (%)  \\\ncount                  161.000000            161.000000   \nmean                     1.339441             56.351429   \nstd                      1.152827             23.219885   \nmin                     -1.600000             11.210000   \n25%                      0.450000             36.340000   \n50%                      1.250000             56.730000   \n75%                      2.170000             74.000000   \nmax                      7.050000             98.890000   \n\n       Life Expectancy at Birth (avg years)  \\\ncount                            161.000000   \nmean                              70.730683   \nstd                                8.800197   \nmin                               47.780000   \n25%                               65.960000   \n50%                               73.450000   \n75%                               76.760000   \nmax                               82.700000   \n\n       Fertility Rate (births per woman)  \\\ncount                         161.000000   \nmean                            2.786398   \nstd                             1.405951   \nmin                             1.230000   \n25%                             1.790000   \n50%                             2.250000   \n75%                             3.460000   \nmax                             7.010000   \n\n       Infant Mortality (deaths per 1000 births)  \\\ncount                                 161.000000   \nmean                                   24.203727   \nstd                                    23.111558   \nmin                                     1.700000   \n25%                                     6.700000   \n50%                                    14.900000   \n75%                                    38.500000   \nmax                                   117.400000   \n\n       Enrolment Rate, Tertiary (%)  Unemployment, Total (%)  \\\ncount                    161.000000               161.000000   \nmean                      34.376149                 9.334161   \nstd                       26.913834                 7.650916   \nmin                        0.810000                 0.200000   \n25%                       10.410000                 4.200000   \n50%                       26.790000                 7.200000   \n75%                       58.810000                12.700000   \nmax                      100.800000                59.500000   \n\n       Estimated Control of Corruption (scale -2.5 to 2.5)  \\\ncount                                         161.000000     \nmean                                            0.007143     \nstd                                             0.977855     \nmin                                            -1.560000     \n25%                                            -0.690000     \n50%                                            -0.300000     \n75%                                             0.640000     \nmax                                             2.420000     \n\n       Estimated Government Effectiveness (scale -2.5 to 2.5)  \\\ncount                                         161.000000        \nmean                                            0.047826        \nstd                                             0.923518        \nmin                                            -1.650000        \n25%                                            -0.640000        \n50%                                            -0.070000        \n75%                                             0.760000        \nmax                                             2.210000        \n\n       Internet Users (%)  \ncount          161.000000  \nmean            41.998137  \nstd             28.954284  \nmin              0.800000  \n25%             13.940000  \n50%             41.440000  \n75%             65.000000  \nmax             96.000000  "
          },
          "metadata": {}
        }
      ]
    },
    {
      "metadata": {},
      "cell_type": "markdown",
      "source": "Also, the *.corr()* function will automatically calculate correlations between all the columns:"
    },
    {
      "metadata": {
        "trusted": true
      },
      "cell_type": "code",
      "source": "data.corr()",
      "execution_count": 18,
      "outputs": [
        {
          "output_type": "execute_result",
          "execution_count": 18,
          "data": {
            "text/html": "<div>\n<table border=\"1\" class=\"dataframe\">\n  <thead>\n    <tr style=\"text-align: right;\">\n      <th></th>\n      <th>GDP per Capita (PPP USD)</th>\n      <th>Population Density (persons per sq km)</th>\n      <th>Population Growth Rate (%)</th>\n      <th>Urban Population (%)</th>\n      <th>Life Expectancy at Birth (avg years)</th>\n      <th>Fertility Rate (births per woman)</th>\n      <th>Infant Mortality (deaths per 1000 births)</th>\n      <th>Enrolment Rate, Tertiary (%)</th>\n      <th>Unemployment, Total (%)</th>\n      <th>Estimated Control of Corruption (scale -2.5 to 2.5)</th>\n      <th>Estimated Government Effectiveness (scale -2.5 to 2.5)</th>\n      <th>Internet Users (%)</th>\n    </tr>\n  </thead>\n  <tbody>\n    <tr>\n      <th>GDP per Capita (PPP USD)</th>\n      <td>1.000000</td>\n      <td>0.072246</td>\n      <td>-0.153124</td>\n      <td>0.639128</td>\n      <td>0.643584</td>\n      <td>-0.525951</td>\n      <td>-0.585671</td>\n      <td>0.537171</td>\n      <td>-0.106848</td>\n      <td>0.759963</td>\n      <td>0.785839</td>\n      <td>0.821155</td>\n    </tr>\n    <tr>\n      <th>Population Density (persons per sq km)</th>\n      <td>0.072246</td>\n      <td>1.000000</td>\n      <td>-0.054785</td>\n      <td>0.020564</td>\n      <td>0.174552</td>\n      <td>-0.168728</td>\n      <td>-0.129753</td>\n      <td>-0.027875</td>\n      <td>-0.124238</td>\n      <td>0.094788</td>\n      <td>0.135485</td>\n      <td>0.146083</td>\n    </tr>\n    <tr>\n      <th>Population Growth Rate (%)</th>\n      <td>-0.153124</td>\n      <td>-0.054785</td>\n      <td>1.000000</td>\n      <td>-0.259166</td>\n      <td>-0.537366</td>\n      <td>0.736531</td>\n      <td>0.570344</td>\n      <td>-0.622351</td>\n      <td>-0.222239</td>\n      <td>-0.320934</td>\n      <td>-0.449213</td>\n      <td>-0.483063</td>\n    </tr>\n    <tr>\n      <th>Urban Population (%)</th>\n      <td>0.639128</td>\n      <td>0.020564</td>\n      <td>-0.259166</td>\n      <td>1.000000</td>\n      <td>0.649894</td>\n      <td>-0.553745</td>\n      <td>-0.578359</td>\n      <td>0.637276</td>\n      <td>0.029592</td>\n      <td>0.499966</td>\n      <td>0.566198</td>\n      <td>0.689482</td>\n    </tr>\n    <tr>\n      <th>Life Expectancy at Birth (avg years)</th>\n      <td>0.643584</td>\n      <td>0.174552</td>\n      <td>-0.537366</td>\n      <td>0.649894</td>\n      <td>1.000000</td>\n      <td>-0.827674</td>\n      <td>-0.923773</td>\n      <td>0.699675</td>\n      <td>-0.062751</td>\n      <td>0.634365</td>\n      <td>0.742861</td>\n      <td>0.798286</td>\n    </tr>\n    <tr>\n      <th>Fertility Rate (births per woman)</th>\n      <td>-0.525951</td>\n      <td>-0.168728</td>\n      <td>0.736531</td>\n      <td>-0.553745</td>\n      <td>-0.827674</td>\n      <td>1.000000</td>\n      <td>0.840303</td>\n      <td>-0.655466</td>\n      <td>-0.096186</td>\n      <td>-0.505364</td>\n      <td>-0.644172</td>\n      <td>-0.735775</td>\n    </tr>\n    <tr>\n      <th>Infant Mortality (deaths per 1000 births)</th>\n      <td>-0.585671</td>\n      <td>-0.129753</td>\n      <td>0.570344</td>\n      <td>-0.578359</td>\n      <td>-0.923773</td>\n      <td>0.840303</td>\n      <td>1.000000</td>\n      <td>-0.678646</td>\n      <td>0.032240</td>\n      <td>-0.589090</td>\n      <td>-0.719287</td>\n      <td>-0.780018</td>\n    </tr>\n    <tr>\n      <th>Enrolment Rate, Tertiary (%)</th>\n      <td>0.537171</td>\n      <td>-0.027875</td>\n      <td>-0.622351</td>\n      <td>0.637276</td>\n      <td>0.699675</td>\n      <td>-0.655466</td>\n      <td>-0.678646</td>\n      <td>1.000000</td>\n      <td>-0.016625</td>\n      <td>0.511104</td>\n      <td>0.634909</td>\n      <td>0.708241</td>\n    </tr>\n    <tr>\n      <th>Unemployment, Total (%)</th>\n      <td>-0.106848</td>\n      <td>-0.124238</td>\n      <td>-0.222239</td>\n      <td>0.029592</td>\n      <td>-0.062751</td>\n      <td>-0.096186</td>\n      <td>0.032240</td>\n      <td>-0.016625</td>\n      <td>1.000000</td>\n      <td>-0.011560</td>\n      <td>-0.071048</td>\n      <td>-0.018211</td>\n    </tr>\n    <tr>\n      <th>Estimated Control of Corruption (scale -2.5 to 2.5)</th>\n      <td>0.759963</td>\n      <td>0.094788</td>\n      <td>-0.320934</td>\n      <td>0.499966</td>\n      <td>0.634365</td>\n      <td>-0.505364</td>\n      <td>-0.589090</td>\n      <td>0.511104</td>\n      <td>-0.011560</td>\n      <td>1.000000</td>\n      <td>0.922517</td>\n      <td>0.779799</td>\n    </tr>\n    <tr>\n      <th>Estimated Government Effectiveness (scale -2.5 to 2.5)</th>\n      <td>0.785839</td>\n      <td>0.135485</td>\n      <td>-0.449213</td>\n      <td>0.566198</td>\n      <td>0.742861</td>\n      <td>-0.644172</td>\n      <td>-0.719287</td>\n      <td>0.634909</td>\n      <td>-0.071048</td>\n      <td>0.922517</td>\n      <td>1.000000</td>\n      <td>0.871476</td>\n    </tr>\n    <tr>\n      <th>Internet Users (%)</th>\n      <td>0.821155</td>\n      <td>0.146083</td>\n      <td>-0.483063</td>\n      <td>0.689482</td>\n      <td>0.798286</td>\n      <td>-0.735775</td>\n      <td>-0.780018</td>\n      <td>0.708241</td>\n      <td>-0.018211</td>\n      <td>0.779799</td>\n      <td>0.871476</td>\n      <td>1.000000</td>\n    </tr>\n  </tbody>\n</table>\n</div>",
            "text/plain": "                                                    GDP per Capita (PPP USD)  \\\nGDP per Capita (PPP USD)                                            1.000000   \nPopulation Density (persons per sq km)                              0.072246   \nPopulation Growth Rate (%)                                         -0.153124   \nUrban Population (%)                                                0.639128   \nLife Expectancy at Birth (avg years)                                0.643584   \nFertility Rate (births per woman)                                  -0.525951   \nInfant Mortality (deaths per 1000 births)                          -0.585671   \nEnrolment Rate, Tertiary (%)                                        0.537171   \nUnemployment, Total (%)                                            -0.106848   \nEstimated Control of Corruption (scale -2.5 to ...                  0.759963   \nEstimated Government Effectiveness (scale -2.5 ...                  0.785839   \nInternet Users (%)                                                  0.821155   \n\n                                                    Population Density (persons per sq km)  \\\nGDP per Capita (PPP USD)                                                          0.072246   \nPopulation Density (persons per sq km)                                            1.000000   \nPopulation Growth Rate (%)                                                       -0.054785   \nUrban Population (%)                                                              0.020564   \nLife Expectancy at Birth (avg years)                                              0.174552   \nFertility Rate (births per woman)                                                -0.168728   \nInfant Mortality (deaths per 1000 births)                                        -0.129753   \nEnrolment Rate, Tertiary (%)                                                     -0.027875   \nUnemployment, Total (%)                                                          -0.124238   \nEstimated Control of Corruption (scale -2.5 to ...                                0.094788   \nEstimated Government Effectiveness (scale -2.5 ...                                0.135485   \nInternet Users (%)                                                                0.146083   \n\n                                                    Population Growth Rate (%)  \\\nGDP per Capita (PPP USD)                                             -0.153124   \nPopulation Density (persons per sq km)                               -0.054785   \nPopulation Growth Rate (%)                                            1.000000   \nUrban Population (%)                                                 -0.259166   \nLife Expectancy at Birth (avg years)                                 -0.537366   \nFertility Rate (births per woman)                                     0.736531   \nInfant Mortality (deaths per 1000 births)                             0.570344   \nEnrolment Rate, Tertiary (%)                                         -0.622351   \nUnemployment, Total (%)                                              -0.222239   \nEstimated Control of Corruption (scale -2.5 to ...                   -0.320934   \nEstimated Government Effectiveness (scale -2.5 ...                   -0.449213   \nInternet Users (%)                                                   -0.483063   \n\n                                                    Urban Population (%)  \\\nGDP per Capita (PPP USD)                                        0.639128   \nPopulation Density (persons per sq km)                          0.020564   \nPopulation Growth Rate (%)                                     -0.259166   \nUrban Population (%)                                            1.000000   \nLife Expectancy at Birth (avg years)                            0.649894   \nFertility Rate (births per woman)                              -0.553745   \nInfant Mortality (deaths per 1000 births)                      -0.578359   \nEnrolment Rate, Tertiary (%)                                    0.637276   \nUnemployment, Total (%)                                         0.029592   \nEstimated Control of Corruption (scale -2.5 to ...              0.499966   \nEstimated Government Effectiveness (scale -2.5 ...              0.566198   \nInternet Users (%)                                              0.689482   \n\n                                                    Life Expectancy at Birth (avg years)  \\\nGDP per Capita (PPP USD)                                                        0.643584   \nPopulation Density (persons per sq km)                                          0.174552   \nPopulation Growth Rate (%)                                                     -0.537366   \nUrban Population (%)                                                            0.649894   \nLife Expectancy at Birth (avg years)                                            1.000000   \nFertility Rate (births per woman)                                              -0.827674   \nInfant Mortality (deaths per 1000 births)                                      -0.923773   \nEnrolment Rate, Tertiary (%)                                                    0.699675   \nUnemployment, Total (%)                                                        -0.062751   \nEstimated Control of Corruption (scale -2.5 to ...                              0.634365   \nEstimated Government Effectiveness (scale -2.5 ...                              0.742861   \nInternet Users (%)                                                              0.798286   \n\n                                                    Fertility Rate (births per woman)  \\\nGDP per Capita (PPP USD)                                                    -0.525951   \nPopulation Density (persons per sq km)                                      -0.168728   \nPopulation Growth Rate (%)                                                   0.736531   \nUrban Population (%)                                                        -0.553745   \nLife Expectancy at Birth (avg years)                                        -0.827674   \nFertility Rate (births per woman)                                            1.000000   \nInfant Mortality (deaths per 1000 births)                                    0.840303   \nEnrolment Rate, Tertiary (%)                                                -0.655466   \nUnemployment, Total (%)                                                     -0.096186   \nEstimated Control of Corruption (scale -2.5 to ...                          -0.505364   \nEstimated Government Effectiveness (scale -2.5 ...                          -0.644172   \nInternet Users (%)                                                          -0.735775   \n\n                                                    Infant Mortality (deaths per 1000 births)  \\\nGDP per Capita (PPP USD)                                                            -0.585671   \nPopulation Density (persons per sq km)                                              -0.129753   \nPopulation Growth Rate (%)                                                           0.570344   \nUrban Population (%)                                                                -0.578359   \nLife Expectancy at Birth (avg years)                                                -0.923773   \nFertility Rate (births per woman)                                                    0.840303   \nInfant Mortality (deaths per 1000 births)                                            1.000000   \nEnrolment Rate, Tertiary (%)                                                        -0.678646   \nUnemployment, Total (%)                                                              0.032240   \nEstimated Control of Corruption (scale -2.5 to ...                                  -0.589090   \nEstimated Government Effectiveness (scale -2.5 ...                                  -0.719287   \nInternet Users (%)                                                                  -0.780018   \n\n                                                    Enrolment Rate, Tertiary (%)  \\\nGDP per Capita (PPP USD)                                                0.537171   \nPopulation Density (persons per sq km)                                 -0.027875   \nPopulation Growth Rate (%)                                             -0.622351   \nUrban Population (%)                                                    0.637276   \nLife Expectancy at Birth (avg years)                                    0.699675   \nFertility Rate (births per woman)                                      -0.655466   \nInfant Mortality (deaths per 1000 births)                              -0.678646   \nEnrolment Rate, Tertiary (%)                                            1.000000   \nUnemployment, Total (%)                                                -0.016625   \nEstimated Control of Corruption (scale -2.5 to ...                      0.511104   \nEstimated Government Effectiveness (scale -2.5 ...                      0.634909   \nInternet Users (%)                                                      0.708241   \n\n                                                    Unemployment, Total (%)  \\\nGDP per Capita (PPP USD)                                          -0.106848   \nPopulation Density (persons per sq km)                            -0.124238   \nPopulation Growth Rate (%)                                        -0.222239   \nUrban Population (%)                                               0.029592   \nLife Expectancy at Birth (avg years)                              -0.062751   \nFertility Rate (births per woman)                                 -0.096186   \nInfant Mortality (deaths per 1000 births)                          0.032240   \nEnrolment Rate, Tertiary (%)                                      -0.016625   \nUnemployment, Total (%)                                            1.000000   \nEstimated Control of Corruption (scale -2.5 to ...                -0.011560   \nEstimated Government Effectiveness (scale -2.5 ...                -0.071048   \nInternet Users (%)                                                -0.018211   \n\n                                                    Estimated Control of Corruption (scale -2.5 to 2.5)  \\\nGDP per Capita (PPP USD)                                                                     0.759963     \nPopulation Density (persons per sq km)                                                       0.094788     \nPopulation Growth Rate (%)                                                                  -0.320934     \nUrban Population (%)                                                                         0.499966     \nLife Expectancy at Birth (avg years)                                                         0.634365     \nFertility Rate (births per woman)                                                           -0.505364     \nInfant Mortality (deaths per 1000 births)                                                   -0.589090     \nEnrolment Rate, Tertiary (%)                                                                 0.511104     \nUnemployment, Total (%)                                                                     -0.011560     \nEstimated Control of Corruption (scale -2.5 to ...                                           1.000000     \nEstimated Government Effectiveness (scale -2.5 ...                                           0.922517     \nInternet Users (%)                                                                           0.779799     \n\n                                                    Estimated Government Effectiveness (scale -2.5 to 2.5)  \\\nGDP per Capita (PPP USD)                                                                     0.785839        \nPopulation Density (persons per sq km)                                                       0.135485        \nPopulation Growth Rate (%)                                                                  -0.449213        \nUrban Population (%)                                                                         0.566198        \nLife Expectancy at Birth (avg years)                                                         0.742861        \nFertility Rate (births per woman)                                                           -0.644172        \nInfant Mortality (deaths per 1000 births)                                                   -0.719287        \nEnrolment Rate, Tertiary (%)                                                                 0.634909        \nUnemployment, Total (%)                                                                     -0.071048        \nEstimated Control of Corruption (scale -2.5 to ...                                           0.922517        \nEstimated Government Effectiveness (scale -2.5 ...                                           1.000000        \nInternet Users (%)                                                                           0.871476        \n\n                                                    Internet Users (%)  \nGDP per Capita (PPP USD)                                      0.821155  \nPopulation Density (persons per sq km)                        0.146083  \nPopulation Growth Rate (%)                                   -0.483063  \nUrban Population (%)                                          0.689482  \nLife Expectancy at Birth (avg years)                          0.798286  \nFertility Rate (births per woman)                            -0.735775  \nInfant Mortality (deaths per 1000 births)                    -0.780018  \nEnrolment Rate, Tertiary (%)                                  0.708241  \nUnemployment, Total (%)                                      -0.018211  \nEstimated Control of Corruption (scale -2.5 to ...            0.779799  \nEstimated Government Effectiveness (scale -2.5 ...            0.871476  \nInternet Users (%)                                            1.000000  "
          },
          "metadata": {}
        }
      ]
    }
  ],
  "metadata": {
    "kernelspec": {
      "name": "python3",
      "display_name": "Python 3",
      "language": "python"
    },
    "language_info": {
      "mimetype": "text/x-python",
      "nbconvert_exporter": "python",
      "name": "python",
      "file_extension": ".py",
      "version": "3.5.4",
      "pygments_lexer": "ipython3",
      "codemirror_mode": {
        "version": 3,
        "name": "ipython"
      }
    }
  },
  "nbformat": 4,
  "nbformat_minor": 2
}
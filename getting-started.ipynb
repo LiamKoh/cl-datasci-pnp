{
  "cells": [
    {
      "metadata": {
        "collapsed": true
      },
      "cell_type": "markdown",
      "source": "# Getting Started"
    },
    {
      "metadata": {},
      "cell_type": "markdown",
      "source": "This is a [Jupyter Notebook](http://jupyter.org/), a live document that is also able to execute code (such as Python). We will be using these Notebooks for demonstration, as it allows us to easily share pieces of code together with the output and comments. You can run your exercises also in Notebooks, or you can install and use regular Python, whichever you prefer.\n\n## Option 1: Using Azure Notebooks\n\nThe advantage of using [Azure Notebooks](https://notebooks.azure.com) is that the environment is set up by Azure and all the execution happens on their servers. You do not need to install anything on your machine, everything happens through the browser.\n\nIn order to log into Azure Notebooks, use your university account. Enter your University of Cambridge email address (e.g. abcd1@cam.ac.uk) and you will be redirected to a university login screen. There you can authenticate yourself with your Raven password. \n\nOnce you are logged in, you can create libraries which can contain Notebooks. You can clone any other library (including this one) by using the clone button. Using the Terminal button you can also access a console interface to the library. When creating new Notebooks, remember that we will be using Python 3.6 in the course, which isn't always compatible with 2.7.\n\nThere is a github repository of this library at https://github.com/marekrei/cl-datasci-pnp  \nYou can create a new library from that github repository (there is an option for that when creating a new library) and then execute `git pull` from the command interface whenever you want to retrieve the latest copy of the library.\n\nIn order to learn how to use the Jupyter Notebook interface, take a look at [this guide](https://medium.com/codingthesmartway-com-blog/getting-started-with-jupyter-notebook-for-python-4e7082bd5d46). Since you don't need to install anything, you can skip to the section on \"Working With The Notebook\".\n\n"
    },
    {
      "metadata": {},
      "cell_type": "markdown",
      "source": "## Option 2: Installing a local copy\n\nNormally, Python programming does not happen in Notebooks. This is only for teaching purposes. Therefore, feel free to go straight to setting up a local Python installation and running your code there.\n\nThe setup process will depend very much on your specific platform and operating system. However, we recommend using the [Anaconda installer](https://www.anaconda.com/download/) which is available for Windows/Linux/Mac and takes care of various dependencies. Note that we will be using Python 3.6.\n\nFor the initial lectures and practicals you will need the following Python packages installed:\n\n * numpy\n * scikit-learn\n * scipy\n * matplotlib\n * pandas\n * tensorflow\n"
    }
  ],
  "metadata": {
    "kernelspec": {
      "name": "python36",
      "display_name": "Python 3.6",
      "language": "python"
    },
    "language_info": {
      "mimetype": "text/x-python",
      "nbconvert_exporter": "python",
      "name": "python",
      "pygments_lexer": "ipython3",
      "version": "3.6.6",
      "file_extension": ".py",
      "codemirror_mode": {
        "version": 3,
        "name": "ipython"
      }
    }
  },
  "nbformat": 4,
  "nbformat_minor": 2
}